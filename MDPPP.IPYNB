{
 "cells": [
  {
   "cell_type": "code",
   "execution_count": 1,
   "metadata": {},
   "outputs": [],
   "source": [
    "import os\n",
    "import numpy as np\n",
    "import matplotlib.pyplot as plt\n",
    "from sklearn.metrics import roc_curve, auc, accuracy_score\n",
    "from sklearn.model_selection import train_test_split\n",
    "from flask import Flask, request\n",
    "from tensorflow.keras.models import Model, load_model\n",
    "from tensorflow.keras.applications import MobileNetV2\n",
    "from tensorflow.keras.layers import GlobalAveragePooling2D, Dense, Dropout\n",
    "from tensorflow.keras.preprocessing.image import load_img, img_to_array"
   ]
  },
  {
   "cell_type": "code",
   "execution_count": 10,
   "metadata": {},
   "outputs": [],
   "source": [
    "# Set paths manually\n",
    "MONKEYPOX_DIR = r\"D:\\MINI PROJECT SEM 3\\archive\\archive\\Fold1\\Fold1\\Fold1\\Train\\Monkeypox\"  # Folder with Monkeypox images\n",
    "OTHERS_DIR = r\"D:\\MINI PROJECT SEM 3\\archive\\archive\\Fold1\\Fold1\\Fold1\\Train\\Others\"        # Folder with Other images\n",
    "MODEL_SAVE_PATH = \"monkeypox_mobilenetv2_model.h5\"\n",
    "UPLOAD_FOLDER = \"uploads\"\n",
    "\n",
    "os.makedirs(UPLOAD_FOLDER, exist_ok=True)"
   ]
  },
  {
   "cell_type": "code",
   "execution_count": 11,
   "metadata": {},
   "outputs": [],
   "source": [
    "# Flask app\n",
    "app = Flask(__name__)\n",
    "\n",
    "# Preprocess Function\n",
    "def preprocess_image(image_path, target_size=(224, 224)):\n",
    "    \"\"\"\n",
    "    Resize and normalize image for prediction.\n",
    "    \"\"\"\n",
    "    image = load_img(image_path, target_size=target_size)\n",
    "    image_array = img_to_array(image)\n",
    "    image_array = np.expand_dims(image_array, axis=0) / 255.0  # Normalize\n",
    "    return image_array"
   ]
  },
  {
   "cell_type": "code",
   "execution_count": 12,
   "metadata": {},
   "outputs": [],
   "source": [
    "def load_dataset(monkeypox_dir, others_dir):\n",
    "    \"\"\"\n",
    "    Load dataset with images and labels.\n",
    "    \"\"\"\n",
    "    data, labels = [], []\n",
    "    for label, folder in enumerate([monkeypox_dir, others_dir]):\n",
    "        for filename in os.listdir(folder):\n",
    "            filepath = os.path.join(folder, filename)\n",
    "            try:\n",
    "                image = load_img(filepath, target_size=(224, 224))\n",
    "                image_array = img_to_array(image)\n",
    "                data.append(image_array)\n",
    "                labels.append(label)\n",
    "            except Exception as e:\n",
    "                print(f\"Error loading {filepath}: {e}\")\n",
    "    data = np.array(data) / 255.0  # Normalize\n",
    "    labels = np.array(labels)\n",
    "    return data, labels"
   ]
  },
  {
   "cell_type": "code",
   "execution_count": 13,
   "metadata": {},
   "outputs": [],
   "source": [
    "def create_model():\n",
    "    \"\"\"\n",
    "    Build MobileNetV2-based CNN model.\n",
    "    \"\"\"\n",
    "    base_model = MobileNetV2(include_top=False, weights=\"imagenet\", input_shape=(224, 224, 3))\n",
    "    base_model.trainable = False  # Freeze base model layers\n",
    "    x = GlobalAveragePooling2D()(base_model.output)\n",
    "    x = Dense(128, activation=\"relu\")(x)\n",
    "    x = Dropout(0.3)(x)\n",
    "    x = Dense(64, activation=\"relu\")(x)\n",
    "    output = Dense(2, activation=\"softmax\")(x)\n",
    "\n",
    "    model = Model(inputs=base_model.input, outputs=output)\n",
    "    model.compile(optimizer=\"adam\", loss=\"sparse_categorical_crossentropy\", metrics=[\"accuracy\"])\n",
    "    return model"
   ]
  },
  {
   "cell_type": "code",
   "execution_count": 14,
   "metadata": {},
   "outputs": [],
   "source": [
    "def train_model():\n",
    "    \"\"\"\n",
    "    Train the model using the dataset and return data splits for evaluation.\n",
    "    \"\"\"\n",
    "    data, labels = load_dataset(MONKEYPOX_DIR, OTHERS_DIR)\n",
    "    x_train, x_test, y_train, y_test = train_test_split(data, labels, test_size=0.2, random_state=42)\n",
    "\n",
    "    model = create_model()\n",
    "    model.fit(x_train, y_train, validation_data=(x_test, y_test), epochs=10, batch_size=32)\n",
    "    model.save(MODEL_SAVE_PATH)\n",
    "    print(f\"Model saved at {MODEL_SAVE_PATH}.\")\n",
    "    return model, x_test, y_test"
   ]
  },
  {
   "cell_type": "code",
   "execution_count": 15,
   "metadata": {},
   "outputs": [
    {
     "name": "stdout",
     "output_type": "stream",
     "text": [
      "Epoch 1/10\n",
      "54/54 [==============================] - 96s 2s/step - loss: 0.5216 - accuracy: 0.7443 - val_loss: 0.3205 - val_accuracy: 0.8625\n",
      "Epoch 2/10\n",
      "54/54 [==============================] - 83s 2s/step - loss: 0.3099 - accuracy: 0.8616 - val_loss: 0.2681 - val_accuracy: 0.8858\n",
      "Epoch 3/10\n",
      "54/54 [==============================] - 83s 2s/step - loss: 0.2403 - accuracy: 0.8920 - val_loss: 0.2237 - val_accuracy: 0.8974\n",
      "Epoch 4/10\n",
      "54/54 [==============================] - 93s 2s/step - loss: 0.1818 - accuracy: 0.9189 - val_loss: 0.2023 - val_accuracy: 0.9184\n",
      "Epoch 5/10\n",
      "54/54 [==============================] - 96s 2s/step - loss: 0.1559 - accuracy: 0.9329 - val_loss: 0.1691 - val_accuracy: 0.9324\n",
      "Epoch 6/10\n",
      "54/54 [==============================] - 87s 2s/step - loss: 0.1474 - accuracy: 0.9335 - val_loss: 0.2079 - val_accuracy: 0.9091\n",
      "Epoch 7/10\n",
      "54/54 [==============================] - 96s 2s/step - loss: 0.1159 - accuracy: 0.9568 - val_loss: 0.1752 - val_accuracy: 0.9301\n",
      "Epoch 8/10\n",
      "54/54 [==============================] - 93s 2s/step - loss: 0.1041 - accuracy: 0.9568 - val_loss: 0.1634 - val_accuracy: 0.9161\n",
      "Epoch 9/10\n",
      "54/54 [==============================] - 97s 2s/step - loss: 0.1044 - accuracy: 0.9533 - val_loss: 0.1864 - val_accuracy: 0.9207\n",
      "Epoch 10/10\n",
      "54/54 [==============================] - 98s 2s/step - loss: 0.0900 - accuracy: 0.9644 - val_loss: 0.1857 - val_accuracy: 0.9254\n"
     ]
    },
    {
     "name": "stderr",
     "output_type": "stream",
     "text": [
      "c:\\Users\\Devank\\anaconda3\\lib\\site-packages\\keras\\utils\\generic_utils.py:494: CustomMaskWarning: Custom mask layers require a config and must override get_config. When loading, the custom mask layer must be passed to the custom_objects argument.\n",
      "  warnings.warn('Custom mask layers require a config and must override '\n"
     ]
    },
    {
     "name": "stdout",
     "output_type": "stream",
     "text": [
      "Model saved at monkeypox_mobilenetv2_model.h5.\n"
     ]
    }
   ],
   "source": [
    "if os.path.exists(MODEL_SAVE_PATH):\n",
    "    model = load_model(MODEL_SAVE_PATH)\n",
    "    _, x_test, y_test = train_model()  # For evaluation purposes\n",
    "else:\n",
    "    model, x_test, y_test = train_model()"
   ]
  },
  {
   "cell_type": "code",
   "execution_count": 16,
   "metadata": {},
   "outputs": [
    {
     "name": "stdout",
     "output_type": "stream",
     "text": [
      "Accuracy: 0.93\n"
     ]
    },
    {
     "data": {
      "image/png": "[encoded data removed]",
      "text/plain": [
       "<Figure size 432x288 with 1 Axes>"
      ]
     },
     "metadata": {
      "needs_background": "light"
     },
     "output_type": "display_data"
    }
   ],
   "source": [
    "def evaluate_model(model, x_test, y_test):\n",
    "    \"\"\"\n",
    "    Plot ROC Curve and compute accuracy.\n",
    "    \"\"\"\n",
    "    predictions = model.predict(x_test)\n",
    "    predicted_classes = np.argmax(predictions, axis=1)\n",
    "\n",
    "    # Accuracy\n",
    "    acc = accuracy_score(y_test, predicted_classes)\n",
    "    print(f\"Accuracy: {acc:.2f}\")\n",
    "\n",
    "    # ROC Curve\n",
    "    fpr, tpr, _ = roc_curve(y_test, predictions[:, 1])  # Get probability scores for positive class\n",
    "    roc_auc = auc(fpr, tpr)\n",
    "\n",
    "    plt.figure()\n",
    "    plt.plot(fpr, tpr, color=\"blue\", lw=2, label=f\"ROC curve (area = {roc_auc:.2f})\")\n",
    "    plt.plot([0, 1], [0, 1], color=\"gray\", linestyle=\"--\")\n",
    "    plt.xlabel(\"False Positive Rate\")\n",
    "    plt.ylabel(\"True Positive Rate\")\n",
    "    plt.title(\"Receiver Operating Characteristic\")\n",
    "    plt.legend(loc=\"lower right\")\n",
    "    plt.show()\n",
    "\n",
    "evaluate_model(model, x_test, y_test)"
   ]
  },
  {
   "cell_type": "code",
   "execution_count": 17,
   "metadata": {},
   "outputs": [],
   "source": [
    "# Flask Routes\n",
    "@app.route(\"/\", methods=[\"GET\", \"POST\"])\n",
    "def index():\n",
    "    \"\"\"\n",
    "    Handles image upload and prediction.\n",
    "    \"\"\"\n",
    "    if request.method == \"POST\":\n",
    "        if 'file' not in request.files:\n",
    "            return \"No file uploaded.\"\n",
    "        file = request.files[\"file\"]\n",
    "        file_path = os.path.join(\"uploads\", file.filename)\n",
    "        file.save(file_path)\n",
    "\n",
    "        # Preprocess and predict\n",
    "        image = preprocess_image(file_path)\n",
    "        prediction = model.predict(image)\n",
    "        label = \"Monkeypox\" if np.argmax(prediction) == 1 else \"Others\"\n",
    "\n",
    "        return f\"\"\"\n",
    "        <!DOCTYPE html>\n",
    "        <html lang=\"en\">\n",
    "        <head>\n",
    "            <meta charset=\"UTF-8\">\n",
    "            <meta name=\"viewport\" content=\"width=device-width, initial-scale=1.0\">\n",
    "            <title>Prediction Result</title>\n",
    "            <style>\n",
    "                body {{\n",
    "                    font-family: \"Helvetica Neue\", Arial, sans-serif;\n",
    "                    background-color: #f5f5dc;\n",
    "                    color: #5a5a5a;\n",
    "                    text-align: center;\n",
    "                    margin: 0;\n",
    "                    padding: 0;\n",
    "                }}\n",
    "                h1 {{\n",
    "                    margin-top: 40px;\n",
    "                    font-size: 2rem;\n",
    "                    color: #8b7765;\n",
    "                }}\n",
    "                p {{\n",
    "                    font-size: 1rem;\n",
    "                    color: #444;\n",
    "                }}\n",
    "                img {{\n",
    "                    margin: 20px 0;\n",
    "                    border-radius: 8px;\n",
    "                    box-shadow: 0 2px 4px rgba(0, 0, 0, 0.1);\n",
    "                }}\n",
    "                a {{\n",
    "                    display: inline-block;\n",
    "                    margin-top: 20px;\n",
    "                    color: #8b7765;\n",
    "                    text-decoration: none;\n",
    "                    font-size: 0.9rem;\n",
    "                }}\n",
    "                a:hover {{\n",
    "                    text-decoration: underline;\n",
    "                }}\n",
    "            </style>\n",
    "        </head>\n",
    "        <body>\n",
    "            <h1>Prediction Result</h1>\n",
    "            <p><b>Result:</b> {label}</p>\n",
    "            <img src=\"/{file_path}\" style=\"width: 300px;\" alt=\"Uploaded Image\" />\n",
    "            <a href=\"/\">Analyze Another Image</a>\n",
    "        </body>\n",
    "        </html>\n",
    "        \"\"\"\n",
    "    # Return the HTML for the main upload page\n",
    "    return \"\"\"\n",
    "    <!DOCTYPE html>\n",
    "    <html lang=\"en\">\n",
    "    <head>\n",
    "        <meta charset=\"UTF-8\">\n",
    "        <meta name=\"viewport\" content=\"width=device-width, initial-scale=1.0\">\n",
    "        <title>Monkeypox Detection</title>\n",
    "        <style>\n",
    "            body {\n",
    "                font-family: \"Helvetica Neue\", Arial, sans-serif;\n",
    "                background-color: #f5f5dc;\n",
    "                color: #5a5a5a;\n",
    "                text-align: center;\n",
    "                margin: 0;\n",
    "                padding: 0;\n",
    "            }\n",
    "            h1 {\n",
    "                margin-top: 40px;\n",
    "                font-size: 2rem;\n",
    "                color: #8b7765;\n",
    "            }\n",
    "            form {\n",
    "                margin: 50px auto;\n",
    "                background-color: #fffaf0;\n",
    "                padding: 20px;\n",
    "                border-radius: 8px;\n",
    "                box-shadow: 0 2px 4px rgba(0, 0, 0, 0.1);\n",
    "                width: 90%;\n",
    "                max-width: 350px;\n",
    "            }\n",
    "            input[type=\"file\"] {\n",
    "                padding: 8px;\n",
    "                margin: 15px 0;\n",
    "                font-size: 0.9rem;\n",
    "                border: 1px solid #dcdcdc;\n",
    "                border-radius: 4px;\n",
    "                width: 100%;\n",
    "            }\n",
    "            button {\n",
    "                background-color: #deb887;\n",
    "                color: #ffffff;\n",
    "                padding: 10px 15px;\n",
    "                font-size: 1rem;\n",
    "                border: none;\n",
    "                border-radius: 5px;\n",
    "                cursor: pointer;\n",
    "                transition: background-color 0.2s ease;\n",
    "            }\n",
    "            button:hover {\n",
    "                background-color: #c2a676;\n",
    "            }\n",
    "            a {\n",
    "                display: inline-block;\n",
    "                margin-top: 20px;\n",
    "                color: #8b7765;\n",
    "                text-decoration: none;\n",
    "                font-size: 0.9rem;\n",
    "            }\n",
    "            a:hover {\n",
    "                text-decoration: underline;\n",
    "            }\n",
    "        </style>\n",
    "    </head>\n",
    "    <body>\n",
    "        <h1>Monkeypox Detection</h1>\n",
    "        <form action=\"/\" method=\"POST\" enctype=\"multipart/form-data\">\n",
    "            <input type=\"file\" name=\"file\" accept=\"image/*\" required><br>\n",
    "            <button type=\"submit\">Upload and Analyze</button>\n",
    "        </form>\n",
    "        <a href=\"/\">Analyze Another Image</a>\n",
    "    </body>\n",
    "    </html>\n",
    "    \"\"\""
   ]
  },
  {
   "cell_type": "code",
   "execution_count": null,
   "metadata": {},
   "outputs": [
    {
     "name": "stdout",
     "output_type": "stream",
     "text": [
      "Running on http://127.0.0.1:5000\n",
      " * Serving Flask app \"__main__\" (lazy loading)\n",
      " * Environment: production\n",
      "   WARNING: This is a development server. Do not use it in a production deployment.\n",
      "   Use a production WSGI server instead.\n",
      " * Debug mode: off\n"
     ]
    },
    {
     "name": "stderr",
     "output_type": "stream",
     "text": [
      " * Running on http://127.0.0.1:5000/ (Press CTRL+C to quit)\n",
      "127.0.0.1 - - [26/Dec/2024 23:56:10] \"\u001b[37mGET / HTTP/1.1\u001b[0m\" 200 -\n",
      "127.0.0.1 - - [26/Dec/2024 23:56:11] \"\u001b[37mGET / HTTP/1.1\u001b[0m\" 200 -\n",
      "127.0.0.1 - - [26/Dec/2024 23:56:17] \"\u001b[33mGET /favicon.ico HTTP/1.1\u001b[0m\" 404 -\n",
      "127.0.0.1 - - [26/Dec/2024 23:56:45] \"\u001b[37mPOST / HTTP/1.1\u001b[0m\" 200 -\n",
      "127.0.0.1 - - [26/Dec/2024 23:56:46] \"\u001b[33mGET /uploads/M19_01.jpg HTTP/1.1\u001b[0m\" 404 -\n",
      "127.0.0.1 - - [26/Dec/2024 23:56:50] \"\u001b[37mGET / HTTP/1.1\u001b[0m\" 200 -\n",
      "127.0.0.1 - - [26/Dec/2024 23:57:18] \"\u001b[37mPOST / HTTP/1.1\u001b[0m\" 200 -\n",
      "127.0.0.1 - - [26/Dec/2024 23:57:19] \"\u001b[33mGET /uploads/M38_01.jpg HTTP/1.1\u001b[0m\" 404 -\n"
     ]
    }
   ],
   "source": [
    "if __name__ == \"__main__\":\n",
    "    # Ensure the 'uploads' directory exists\n",
    "    os.makedirs(\"uploads\", exist_ok=True)\n",
    "\n",
    "    # Run without debug mode to suppress warnings\n",
    "    print(\"Running on http://127.0.0.1:5000\")\n",
    "    app.run(port=5000)"
   ]
  }
 ],
 "metadata": {
  "kernelspec": {
   "display_name": "base",
   "language": "python",
   "name": "python3"
  },
  "language_info": {
   "codemirror_mode": {
    "name": "ipython",
    "version": 3
   },
   "file_extension": ".py",
   "mimetype": "text/x-python",
   "name": "python",
   "nbconvert_exporter": "python",
   "pygments_lexer": "ipython3",
   "version": "3.8.8"
  }
 },
 "nbformat": 4,
 "nbformat_minor": 2
}
